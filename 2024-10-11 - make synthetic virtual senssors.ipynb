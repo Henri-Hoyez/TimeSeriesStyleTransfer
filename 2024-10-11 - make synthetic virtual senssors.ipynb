{
 "cells": [
  {
   "cell_type": "markdown",
   "metadata": {},
   "source": [
    "# Make Synthetic Virtual Senssors Dataset"
   ]
  },
  {
   "cell_type": "code",
   "execution_count": 34,
   "metadata": {},
   "outputs": [],
   "source": [
    "import pandas as pd\n",
    "import numpy as np\n",
    "import matplotlib.pyplot as plt\n",
    "from utils import dataLoader\n",
    "from utils import utils\n",
    "from utils import DataManagement\n",
    "import os"
   ]
  },
  {
   "cell_type": "code",
   "execution_count": 35,
   "metadata": {},
   "outputs": [],
   "source": [
    "SENSOR_TO_REMOVE = \"out_c3\"\n",
    "\n",
    "\n",
    "SYNTHETIC_DATASETS = {\n",
    "    \"data/simulated_dataset/amplitude_shift/1.0_1.0.h5\":SENSOR_TO_REMOVE, \n",
    "    \"data/simulated_dataset/amplitude_shift/2.0_2.0.h5\":None, \n",
    "    \"data/simulated_dataset/amplitude_shift/3.0_3.0.h5\":SENSOR_TO_REMOVE, \n",
    "    \"data/simulated_dataset/amplitude_shift/4.0_4.0.h5\":None, \n",
    "    \"data/simulated_dataset/amplitude_shift/5.0_5.0.h5\":SENSOR_TO_REMOVE, \n",
    "    \"data/simulated_dataset/amplitude_shift/6.0_6.0.h5\":None, \n",
    "    \"data/simulated_dataset/amplitude_shift/7.0_7.0.h5\":SENSOR_TO_REMOVE, \n",
    "    \"data/simulated_dataset/amplitude_shift/8.0_8.0.h5\":None, \n",
    "    \"data/simulated_dataset/amplitude_shift/9.0_9.0.h5\":SENSOR_TO_REMOVE, \n",
    "    \"data/simulated_dataset/amplitude_shift/10.0_10.0.h5\":None,\n",
    "    \n",
    "    \"data/simulated_dataset/output_noise/0.25.h5\":SENSOR_TO_REMOVE,\n",
    "    \"data/simulated_dataset/output_noise/0.50.h5\":None,\n",
    "    \"data/simulated_dataset/output_noise/0.75.h5\":SENSOR_TO_REMOVE,\n",
    "    \"data/simulated_dataset/output_noise/1.00.h5\":None,\n",
    "    \"data/simulated_dataset/output_noise/1.25.h5\":SENSOR_TO_REMOVE,\n",
    "    \"data/simulated_dataset/output_noise/1.50.h5\":None,\n",
    "    \"data/simulated_dataset/output_noise/1.75.h5\":SENSOR_TO_REMOVE,\n",
    "    \"data/simulated_dataset/output_noise/2.00.h5\":None,\n",
    "    \"data/simulated_dataset/output_noise/2.25.h5\":SENSOR_TO_REMOVE,\n",
    "    \"data/simulated_dataset/output_noise/2.50.h5\":None,\n",
    "    \n",
    "    \"data/simulated_dataset/time_shift/0.h5\":SENSOR_TO_REMOVE,\n",
    "    \"data/simulated_dataset/time_shift/2.h5\":None,\n",
    "    \"data/simulated_dataset/time_shift/4.h5\":SENSOR_TO_REMOVE,\n",
    "    \"data/simulated_dataset/time_shift/6.h5\":None,\n",
    "    \"data/simulated_dataset/time_shift/8.h5\":SENSOR_TO_REMOVE,\n",
    "    \"data/simulated_dataset/time_shift/10.h5\":None,\n",
    "    \"data/simulated_dataset/time_shift/12.h5\":SENSOR_TO_REMOVE,\n",
    "    \"data/simulated_dataset/time_shift/14.h5\":None,\n",
    "    \"data/simulated_dataset/time_shift/16.h5\":SENSOR_TO_REMOVE,\n",
    "    \"data/simulated_dataset/time_shift/18.h5\":None\n",
    "}\n",
    "\n",
    "CONTENT_DATASET_PATH = \"data/simulated_dataset/01 - Source Domain.h5\"\n",
    "\n",
    "SAVE_FOLDER = \"data/synthetic_virtual_senssors\"\n"
   ]
  },
  {
   "cell_type": "code",
   "execution_count": 38,
   "metadata": {},
   "outputs": [],
   "source": [
    "def get_v_s_dataframe(dataset_path:str, col_to_remove=None) -> pd.DataFrame:\n",
    "    \n",
    "    df = dataLoader.load_dataframe(dataset_path, False)\n",
    "    \n",
    "    if not col_to_remove is None:\n",
    "        df[col_to_remove] = 0.\n",
    "\n",
    "    return df    \n",
    "\n",
    "def make_n_save(path:str, senssor_to_remove:str):\n",
    "    _itermediate_path = \"/\".join(path.split('/')[1:-1])\n",
    "    filename = utils.get_name(path)\n",
    "    final_path = f'{SAVE_FOLDER}/{_itermediate_path}'\n",
    "    os.makedirs(final_path, exist_ok=True)\n",
    "    \n",
    "    _df = get_v_s_dataframe(path, senssor_to_remove)\n",
    "    \n",
    "    _df_train, _df_valid = DataManagement.train_valid_split(_df)\n",
    "    \n",
    "    _df.to_hdf(f\"{final_path}/{filename}.h5\", key='data')\n",
    "    _df_train.to_hdf(f\"{final_path}/{filename}_train.h5\", key='data')\n",
    "    _df_valid.to_hdf(f\"{final_path}/{filename}_valid.h5\", key='data')\n",
    "    "
   ]
  },
  {
   "cell_type": "code",
   "execution_count": 39,
   "metadata": {},
   "outputs": [],
   "source": [
    "for path, sensor_to_remove in SYNTHETIC_DATASETS.items():\n",
    "    make_n_save(path, sensor_to_remove)\n",
    "    \n",
    "make_n_save(CONTENT_DATASET_PATH, SENSOR_TO_REMOVE)"
   ]
  }
 ],
 "metadata": {
  "kernelspec": {
   "display_name": "tf2",
   "language": "python",
   "name": "python3"
  },
  "language_info": {
   "codemirror_mode": {
    "name": "ipython",
    "version": 3
   },
   "file_extension": ".py",
   "mimetype": "text/x-python",
   "name": "python",
   "nbconvert_exporter": "python",
   "pygments_lexer": "ipython3",
   "version": "3.10.0"
  }
 },
 "nbformat": 4,
 "nbformat_minor": 2
}
