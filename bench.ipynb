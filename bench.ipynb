{
 "cells": [
  {
   "cell_type": "code",
   "execution_count": null,
   "metadata": {},
   "outputs": [],
   "source": [
    "import pandas as pd\n",
    "import numpy as np\n",
    "import matplotlib.pyplot as plt\n",
    "import itertools\n",
    "\n",
    "ROOT_FOLDER = \"to_evaluate\"\n",
    "SIMPLE_METRIC_FILENAME = \"simple_metric_results.xlsx\""
   ]
  },
  {
   "cell_type": "code",
   "execution_count": null,
   "metadata": {},
   "outputs": [],
   "source": [
    "def extract_results(exp_names:list, _exp_type:str, _root_folder:str=ROOT_FOLDER):\n",
    "    idxs = list(itertools.product(exp_names, [0,1,2,3,4,5,6]))\n",
    "    multi_index = pd.MultiIndex.from_tuples(idxs)\n",
    "    _df_data = []\n",
    "\n",
    "    for exp_name in exp_names:\n",
    "        filepath = f\"{_root_folder}/{_exp_type}/{exp_name}/{SIMPLE_METRIC_FILENAME}\"\n",
    "        _df = pd.read_excel(filepath)\n",
    "        _df = _df.drop(columns=[\"Unnamed: 0\"])\n",
    "        _df_values = _df.values\n",
    "        _df_data.append(_df_values)\n",
    "\n",
    "    _df_data = np.array(_df_data).reshape(-1, _df_values.shape[-1])\n",
    "    return pd.DataFrame(data=_df_data, index=multi_index, columns=_df.columns)\n",
    "\n"
   ]
  },
  {
   "cell_type": "code",
   "execution_count": null,
   "metadata": {},
   "outputs": [],
   "source": [
    "def plot_label_result(\n",
    "        _df:pd.DataFrame, \n",
    "        n_signal:int, \n",
    "        exp_types:list, \n",
    "        plot_labels:list, \n",
    "        title=\"a wonderfull title\", xlabel=\"a marvelous x label\", ylabel=\"an astonishing y label!\"):\n",
    "    \n",
    "    idx = list(itertools.product(exp_types, [n_signal]))\n",
    "\n",
    "    plt.figure(figsize=(18, 5))\n",
    "    ax = plt.subplot(111)\n",
    "    _df.loc[idx][plot_labels].plot(ax=ax, style=\".-\")\n",
    "\n",
    "    ax.grid(True)\n",
    "    ax.set_title(f\"{title} on senssor {n_signal}.\")\n",
    "    ax.set_xlabel(xlabel)\n",
    "    ax.set_ylabel(ylabel)\n"
   ]
  },
  {
   "cell_type": "code",
   "execution_count": null,
   "metadata": {},
   "outputs": [],
   "source": [
    "def aggretate_results(\n",
    "        df:pd.DataFrame, \n",
    "        first_level_index:list,\n",
    "        sensor_to_use=[0,1,2,3,4,5]):\n",
    "    \n",
    "    idx = list(itertools.product(first_level_index, sensor_to_use))\n",
    "    return df.loc[idx].reset_index(0).groupby(\"level_0\").mean()\n",
    "\n",
    "\n",
    "def plot_results(\n",
    "        df:pd.DataFrame,\n",
    "        label_to_plot:list,\n",
    "        title=\"A wonderfull title\", \n",
    "        xlabel=\"A marvelous x label\", \n",
    "        ylabel=\"An astonishing y label!\",\n",
    "        content_line=0,\n",
    "        content_label=\"\",\n",
    "        style1_line=0, style1_label=\"\"):\n",
    "    \n",
    "    plt.figure(figsize=(18, 10))\n",
    "    ax = plt.subplot(111)\n",
    "\n",
    "    df[label_to_plot].plot(ax=ax, style=\".-\")\n",
    "\n",
    "    plt.axvline(x=content_line, color='k', linestyle=\"--\", label=content_label)\n",
    "    plt.axvline(x=style1_line, color='b', linestyle=\"--\", label=style1_label)\n",
    "\n",
    "    ax.grid(True)\n",
    "    ax.set_title(title)\n",
    "    ax.set_xlabel(xlabel)\n",
    "    ax.set_ylabel(ylabel)\n",
    "\n",
    "    final_legend = list(label_to_plot)\n",
    "    final_legend.extend([content_label, style1_label])\n",
    "\n",
    "    ax.legend(final_legend)"
   ]
  },
  {
   "attachments": {},
   "cell_type": "markdown",
   "metadata": {},
   "source": [
    "## Amplitude Shift"
   ]
  },
  {
   "cell_type": "code",
   "execution_count": null,
   "metadata": {},
   "outputs": [],
   "source": [
    "exp_type = \"amplitude_shift\"\n",
    "\n",
    "amplitude_folder_names = [f\"{nb+1:0.1f}_{nb+1:0.1f}\" for nb in range(4)]\n",
    "amplitude_folder_names.remove(\"2.0_2.0\")\n",
    "print(amplitude_folder_names)\n",
    "\n",
    "ampl_labels = [\"style1_extracted_ampl\", \"style2_extracted_ampl\", \"gen_s1_extracted_ampl\", \"gen_s2_extracted_ampl\"]\n",
    "\n",
    "amplitude_exp_values = extract_results(amplitude_folder_names, exp_type)\n",
    "agreggated_amplitudes = aggretate_results(amplitude_exp_values, amplitude_folder_names, [0, 1])\n",
    "agreggated_amplitudes.index = agreggated_amplitudes.index.str.split(\"_\").map(lambda i: float(i[0]))\n",
    "agreggated_amplitudes = agreggated_amplitudes.sort_index() "
   ]
  },
  {
   "cell_type": "code",
   "execution_count": null,
   "metadata": {},
   "outputs": [],
   "source": [
    "plot_results(\n",
    "    agreggated_amplitudes, \n",
    "    ampl_labels, \n",
    "    title=\"Results on Amplitude Tests\",\n",
    "    xlabel=\"Dataset Amplitude.\",\n",
    "    ylabel=\"Extracted Amplitude from signals.\",\n",
    "    content_line=5, content_label=\"Content Amplitude\",\n",
    "    style1_line=3, style1_label='Style 1 Amplitude')"
   ]
  },
  {
   "attachments": {},
   "cell_type": "markdown",
   "metadata": {},
   "source": [
    "## Output Noise"
   ]
  },
  {
   "cell_type": "code",
   "execution_count": null,
   "metadata": {},
   "outputs": [],
   "source": [
    "exp_type = \"output_noise\"\n",
    "\n",
    "out_noise_folder_names = [f\"{0.25* (nb+1):0.2f}\" for nb in range(10)]\n",
    "\n",
    "on_labels = [\"style1_extracted_noise\", \"style2_extracted_noise\", \"gen_s1_extracted_noise\", \"gen_s2_extracted_noise\"]\n",
    "\n",
    "outpout_noise_df = extract_results(out_noise_folder_names, exp_type)\n",
    "agg_out_noise_result = aggretate_results(outpout_noise_df, out_noise_folder_names)\n",
    "agg_out_noise_result.index = agg_out_noise_result.index.astype(np.float32)"
   ]
  },
  {
   "cell_type": "code",
   "execution_count": null,
   "metadata": {},
   "outputs": [],
   "source": [
    "plot_results(\n",
    "    agg_out_noise_result, \n",
    "    on_labels, \n",
    "    title=\"Results on Output Noise Tests.\",\n",
    "    xlabel=\"Dataset Noise\",\n",
    "    ylabel=\"Extracted Noise from signal.\",\n",
    "    content_line=0.25, content_label=\"Content Noise.\",\n",
    "    style1_line=1.25, style1_label='Style 1 Noise.')"
   ]
  },
  {
   "attachments": {},
   "cell_type": "markdown",
   "metadata": {},
   "source": [
    "## Time Shift"
   ]
  },
  {
   "cell_type": "code",
   "execution_count": null,
   "metadata": {},
   "outputs": [],
   "source": [
    "exp_type = \"time_shift\"\n",
    "time_shift_folder_names = [f\"{nb*2:0.0f}\" for nb in range(0, 10)]\n",
    "\n",
    "ts_labels = [\"real_s1_shifts\", \"real_s2_shifts\", \"fake_s1_shifts\", \"fake_s2_shifts\"]\n",
    "\n",
    "time_shift_results = extract_results(time_shift_folder_names, exp_type)\n",
    "agg_ts_results = aggretate_results(time_shift_results, time_shift_folder_names, [2, 3, 4])\n",
    "agg_ts_results.index = agg_ts_results.index.astype(int)\n",
    "agg_ts_results = agg_ts_results.sort_index()"
   ]
  },
  {
   "cell_type": "code",
   "execution_count": null,
   "metadata": {},
   "outputs": [],
   "source": [
    "plot_results(\n",
    "    agg_ts_results, \n",
    "    ts_labels,\n",
    "    title=\"Results on Time Shift Tests.\",\n",
    "    xlabel=\"Dataset Time Delay\",\n",
    "    ylabel=\"Extracted Time Delay from signal.\",\n",
    "    content_line=0.0, content_label=\"Content Time Shift.\",\n",
    "    style1_line=8, style1_label='Style 1 Time Shift.'\n",
    "    )"
   ]
  },
  {
   "attachments": {},
   "cell_type": "markdown",
   "metadata": {},
   "source": [
    "# Compare With Previous experiments\n",
    "## Time Shift\n"
   ]
  },
  {
   "cell_type": "code",
   "execution_count": null,
   "metadata": {},
   "outputs": [],
   "source": [
    "ts_labels = [\"real_s1_shifts\", \"real_s2_shifts\", \"fake_s1_shifts\", \"fake_s2_shifts\"]\n",
    "\n",
    "old_ts_folder_names = [f\"{nb*2:0.0f}\" for nb in range(0, 10)]\n",
    "\n",
    "old_ts_exp = extract_results(old_ts_folder_names, \"time_shift\", \"EXPS/EXP_2024-08-10_Improved architecture\")\n",
    "old_ts_exp = aggretate_results(old_ts_exp, old_ts_folder_names)\n",
    "\n",
    "old_ts_exp.index = old_ts_exp.index.astype(int)\n",
    "old_ts_exp = old_ts_exp.sort_index()\n",
    "\n",
    "ts_labels = [\"real_s1_shifts\", \"real_s2_shifts\", \"fake_s1_shifts\", \"fake_s2_shifts\"]\n"
   ]
  },
  {
   "cell_type": "code",
   "execution_count": null,
   "metadata": {},
   "outputs": [],
   "source": [
    "plt.figure(figsize=(18, 10))\n",
    "ax = plt.subplot(211)\n",
    "ax.set_title(\"Comparison between an old and the new version: Time shift. Style 1\")\n",
    "\n",
    "agg_ts_results[\"real_s1_shifts\"].plot(ax=ax)\n",
    "old_ts_exp[\"fake_s1_shifts\"].plot(ax=ax)\n",
    "agg_ts_results[\"fake_s1_shifts\"].plot(ax=ax)\n",
    "\n",
    "ax.set_xlabel(\"Time Shift.\")\n",
    "\n",
    "plt.legend([\"Real Style 1\", \"Gen old Style 1\", \"Gen New Style 1\"])\n",
    "ax.grid(True)\n",
    "\n",
    "ax = plt.subplot(212)\n",
    "ax.set_title(\"Comparison between an old and the new version: Time shift. Style 2\")\n",
    "\n",
    "agg_ts_results[\"real_s2_shifts\"].plot(ax=ax)\n",
    "old_ts_exp[\"fake_s2_shifts\"].plot(ax=ax)\n",
    "agg_ts_results[\"fake_s2_shifts\"].plot(ax=ax)\n",
    "\n",
    "ax.set_xlabel(\"Time Shift.\")\n",
    "\n",
    "plt.legend([\"Real Style 2\", \"Gen old Style 2\", \"Gen New Style 2\"])\n",
    "ax.grid(True)\n",
    "\n",
    "plt.show()"
   ]
  },
  {
   "attachments": {},
   "cell_type": "markdown",
   "metadata": {},
   "source": [
    "## Output Noise"
   ]
  },
  {
   "cell_type": "code",
   "execution_count": null,
   "metadata": {},
   "outputs": [],
   "source": [
    "exp_type = \"output_noise\"\n",
    "\n",
    "on_labels = [\"style1_extracted_noise\", \"style2_extracted_noise\", \"gen_s1_extracted_noise\", \"gen_s2_extracted_noise\"]\n",
    "\n",
    "old_output_noise = extract_results(out_noise_folder_names, exp_type, \"EXPS/EXP_2024-07-26_final_experiment\")\n",
    "old_output_noise = aggretate_results(old_output_noise, out_noise_folder_names)\n",
    "old_output_noise.index = old_output_noise.index.astype(np.float32)"
   ]
  },
  {
   "cell_type": "code",
   "execution_count": null,
   "metadata": {},
   "outputs": [],
   "source": [
    "plt.figure(figsize=(18, 10))\n",
    "ax = plt.subplot(211)\n",
    "ax.set_title(\"Comparison between an old and the new version: Output Noise. Style 1\")\n",
    "\n",
    "agg_out_noise_result[\"style1_extracted_noise\"].plot(ax=ax)\n",
    "old_output_noise[\"gen_s1_extracted_noise\"].plot(ax=ax)\n",
    "agg_out_noise_result[\"gen_s1_extracted_noise\"].plot(ax=ax)\n",
    "\n",
    "ax.set_xlabel(\"Time Shift.\")\n",
    "\n",
    "plt.legend([\"Real Style 1\", \"Gen old Style 1\", \"Gen New Style 1\"])\n",
    "ax.grid(True)\n",
    "\n",
    "ax = plt.subplot(212)\n",
    "ax.set_title(\"Comparison between an old and the new version: Output Noise. Style 2\")\n",
    "\n",
    "agg_out_noise_result[\"style2_extracted_noise\"].plot(ax=ax)\n",
    "old_output_noise[\"gen_s2_extracted_noise\"].plot(ax=ax)\n",
    "agg_out_noise_result[\"gen_s2_extracted_noise\"].plot(ax=ax)\n",
    "\n",
    "ax.set_xlabel(\"Time Shift.\")\n",
    "\n",
    "\n",
    "plt.legend([\"Real Style 2\", \"Gen old Style 2\", \"Gen New Style 2\"])\n",
    "ax.grid(True)\n",
    "\n",
    "plt.show()"
   ]
  },
  {
   "attachments": {},
   "cell_type": "markdown",
   "metadata": {},
   "source": [
    "## Amplitude"
   ]
  },
  {
   "cell_type": "code",
   "execution_count": null,
   "metadata": {},
   "outputs": [],
   "source": [
    "exp_type = \"amplitude_shift\"\n",
    "amplitude_folder_names\n",
    "on_labels = [\"style1_extracted_noise\", \"style2_extracted_noise\", \"gen_s1_extracted_noise\", \"gen_s2_extracted_noise\"]\n",
    "\n",
    "old_amplitude = extract_results(amplitude_folder_names, exp_type, \"EXPS/EXP_2024-07-26_final_experiment\")\n",
    "old_amplitude = aggretate_results(old_amplitude, amplitude_folder_names, [0, 1])\n",
    "\n",
    "old_amplitude.index = old_amplitude.index.str.split(\"_\").map(lambda i: float(i[0]))\n",
    "old_amplitude = old_amplitude.sort_index() \n",
    "\n",
    "ampl_labels = [\"style1_extracted_ampl\", \"style2_extracted_ampl\", \"gen_s1_extracted_ampl\", \"gen_s2_extracted_ampl\"]\n"
   ]
  },
  {
   "cell_type": "code",
   "execution_count": null,
   "metadata": {},
   "outputs": [],
   "source": [
    "plt.figure(figsize=(18, 10))\n",
    "ax = plt.subplot(211)\n",
    "ax.set_title(\"Comparison between an old and the new version: Amplitude Shift Style 1\")\n",
    "\n",
    "agreggated_amplitudes[\"style1_extracted_ampl\"].plot(ax=ax)\n",
    "old_amplitude[\"gen_s1_extracted_ampl\"].plot(ax=ax)\n",
    "agreggated_amplitudes[\"gen_s1_extracted_ampl\"].plot(ax=ax)\n",
    "\n",
    "ax.set_xlabel(\"Expected Amplitudes\")\n",
    "ax.set_ylabel(\"Extracted Amplitudes\")\n",
    "\n",
    "plt.legend([\"Real Style 1\", \"Gen old Style 1\", \"Gen New Style 1\"])\n",
    "ax.grid(True)\n",
    "\n",
    "ax = plt.subplot(212)\n",
    "ax.set_title(\"Comparison between an old and the new version: Amplitude Shift Style 2\")\n",
    "\n",
    "agreggated_amplitudes[\"style2_extracted_ampl\"].plot(ax=ax)\n",
    "old_amplitude[\"gen_s2_extracted_ampl\"].plot(ax=ax)\n",
    "agreggated_amplitudes[\"gen_s2_extracted_ampl\"].plot(ax=ax)\n",
    "\n",
    "ax.set_xlabel(\"Expected Amplitudes\")\n",
    "ax.set_ylabel(\"Extracted Amplitudes\")\n",
    "\n",
    "\n",
    "plt.legend([\"Real Style 2\", \"Gen old Style 2\", \"Gen New Style 2\"])\n",
    "ax.grid(True)\n",
    "\n",
    "plt.show()"
   ]
  },
  {
   "cell_type": "code",
   "execution_count": null,
   "metadata": {},
   "outputs": [],
   "source": []
  }
 ],
 "metadata": {
  "kernelspec": {
   "display_name": "tf",
   "language": "python",
   "name": "python3"
  },
  "language_info": {
   "codemirror_mode": {
    "name": "ipython",
    "version": 3
   },
   "file_extension": ".py",
   "mimetype": "text/x-python",
   "name": "python",
   "nbconvert_exporter": "python",
   "pygments_lexer": "ipython3",
   "version": "3.10.13"
  },
  "orig_nbformat": 4
 },
 "nbformat": 4,
 "nbformat_minor": 2
}
