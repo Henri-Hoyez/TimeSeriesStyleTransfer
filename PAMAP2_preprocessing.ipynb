{
 "cells": [
  {
   "cell_type": "code",
   "execution_count": 1,
   "metadata": {},
   "outputs": [],
   "source": [
    "import pandas as pd\n",
    "import matplotlib.pyplot as plt\n",
    "import seaborn as sns"
   ]
  },
  {
   "cell_type": "code",
   "execution_count": 2,
   "metadata": {},
   "outputs": [],
   "source": [
    "activity_ids = {\n",
    "    0:\"other (transient activities)\",\n",
    "    1 :\"lying\",\n",
    "    2 :\"sitting\",\n",
    "    3 :\"standing\",\n",
    "    4 :\"walking\",\n",
    "    5 :\"running\",\n",
    "    6 :\"cycling\",\n",
    "    7 :\"Nordic walking\",\n",
    "    9 :\"watching TV\",\n",
    "    10:\"computer work\",\n",
    "    11:\"car driving\",\n",
    "    12:\"ascending stairs\",\n",
    "    13:\"descending stairs\",\n",
    "    16:\"vacuum cleaning\",\n",
    "    17:\"ironing\",\n",
    "    18:\"folding laundry\",\n",
    "    19:\"house cleaning\",\n",
    "    20:\"playing soccer\",\n",
    "    24:\"rope jumping\",\n",
    "    }"
   ]
  },
  {
   "cell_type": "code",
   "execution_count": 3,
   "metadata": {},
   "outputs": [],
   "source": [
    "def plot_activity(df_subject:pd.DataFrame, activity_id:int, t_window:float=60.):\n",
    "    ax_cols = [\n",
    "        ['IMU Hand Acc X1','IMU Hand Acc Y1', 'IMU Hand Acc Z1'],\n",
    "        ['IMU Chest Acc X2','IMU Chest Acc Y2', 'IMU Chest Acc Z2'],\n",
    "        ['IMU Anckle Acc X2','IMU Anckle Acc Y2', 'IMU Anckle Acc Z2']\n",
    "        ]\n",
    "    \n",
    "    n_suplot = len(ax_cols)\n",
    "\n",
    "    start = df_subject[df_subject[\"Activity ID\"] == activity_id].index[0]\n",
    "\n",
    "    plt.figure(figsize=(18, 10))\n",
    "    plt.suptitle(activity_ids[activity_id])\n",
    "    for i, cs in enumerate(ax_cols):\n",
    "        ax = plt.subplot(n_suplot, 1, i+1)\n",
    "        df_subject.loc[start: start+ t_window][cs].plot(ax=ax)\n",
    "        df_subject.loc[start: start+ t_window][\"Heart Rate\"].plot(ax=ax)\n",
    "        ax.grid(True)\n",
    "        \n",
    "    plt.tight_layout()\n",
    "    plt.show()"
   ]
  },
  {
   "cell_type": "code",
   "execution_count": 4,
   "metadata": {},
   "outputs": [],
   "source": [
    "def generate_cols():\n",
    "    imu_cols= []\n",
    "    cols = [\"t_stamp\", \"Activity ID\", \"Heart Rate\"]\n",
    "    \n",
    "    for i in ['Hand', \"Chest\", \"Anckle\"]:\n",
    "        c = [\n",
    "            f\"IMU {i} Temperature\", \n",
    "            f\"IMU {i} Acc X1\", f\"IMU {i} Acc Y1\", f\"IMU {i} Acc Z1\", \n",
    "            f\"IMU {i} Acc X2\", f\"IMU {i} Acc Y2\", f\"IMU {i} Acc Z2\", \n",
    "            f\"IMU {i} Gyr X\", f\"IMU {i} Gyr Y\", f\"IMU {i} Gyr Z\", \n",
    "            f\"IMU {i} Mag X\", f\"IMU {i} Mag Y\", f\"IMU {i} Mag Z\",\n",
    "            f\"invalid\", f\"invalid\", f\"invalid\", \"invalid\"]\n",
    "        imu_cols.extend(c)\n",
    "        \n",
    "    cols.extend(imu_cols)\n",
    "    return cols\n",
    "\n",
    "def load_subject(filename:str): \n",
    "    df_s = pd.read_csv(filename, delimiter=\" \")\n",
    "    df_s.columns = generate_cols()\n",
    "\n",
    "    df_s = df_s.drop(columns=[\"invalid\"])\n",
    "    df_s = df_s.set_index([\"t_stamp\"])\n",
    "    df_s[\"Heart Rate\"] = df_s[\"Heart Rate\"].ffill()\n",
    "    \n",
    "    return df_s"
   ]
  },
  {
   "cell_type": "code",
   "execution_count": 11,
   "metadata": {},
   "outputs": [],
   "source": [
    "def create_activity_dataset(_dfs: list, selected_activity: int):\n",
    "    datas = []\n",
    "    for df in _dfs:\n",
    "        activity = df[df[\"Activity ID\"] == selected_activity]\n",
    "        activity = activity.reset_index().drop(columns='t_stamp')\n",
    "        \n",
    "        datas.append(activity)\n",
    "        \n",
    "    activity_df = pd.concat(datas)\n",
    "    \n",
    "    return activity_df"
   ]
  },
  {
   "cell_type": "code",
   "execution_count": 14,
   "metadata": {},
   "outputs": [],
   "source": [
    "SUBJECTS = [1, 5, 6, 8]\n",
    "ACTIVITIES = [4, 5, 6, 24]\n",
    "\n",
    "dfs = [load_subject(f'data/PAMP2/subject10{i}.dat') for i in SUBJECTS]\n",
    "\n",
    "df_walking = create_activity_dataset(dfs, ACTIVITIES[0])\n",
    "df_running = create_activity_dataset(dfs, ACTIVITIES[1])\n",
    "df_cycling = create_activity_dataset(dfs, ACTIVITIES[2])\n",
    "df_jumping = create_activity_dataset(dfs, ACTIVITIES[3])"
   ]
  },
  {
   "cell_type": "code",
   "execution_count": 16,
   "metadata": {},
   "outputs": [],
   "source": [
    "SAVE_FOLDER = \"data/PAMP2/per_activity\"\n",
    "\n",
    "df_walking.to_hdf(f\"{SAVE_FOLDER}/walking.h5\", key=\"data\")\n",
    "df_running.to_hdf(f\"{SAVE_FOLDER}/running.h5\", key=\"data\")\n",
    "df_cycling.to_hdf(f\"{SAVE_FOLDER}/cycling.h5\", key=\"data\")\n",
    "df_jumping.to_hdf(f\"{SAVE_FOLDER}/jumping.h5\", key=\"data\")"
   ]
  }
 ],
 "metadata": {
  "kernelspec": {
   "display_name": "tf",
   "language": "python",
   "name": "python3"
  },
  "language_info": {
   "codemirror_mode": {
    "name": "ipython",
    "version": 3
   },
   "file_extension": ".py",
   "mimetype": "text/x-python",
   "name": "python",
   "nbconvert_exporter": "python",
   "pygments_lexer": "ipython3",
   "version": "3.10.13"
  }
 },
 "nbformat": 4,
 "nbformat_minor": 2
}
