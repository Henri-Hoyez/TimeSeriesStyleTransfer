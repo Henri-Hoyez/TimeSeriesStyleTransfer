{
 "cells": [
  {
   "cell_type": "code",
   "execution_count": 1,
   "metadata": {},
   "outputs": [],
   "source": [
    "import pandas as pd\n",
    "import numpy as np\n",
    "import matplotlib.pyplot as plt\n",
    "import seaborn as sns"
   ]
  },
  {
   "cell_type": "code",
   "execution_count": 2,
   "metadata": {},
   "outputs": [],
   "source": [
    "style_datasets_path = [\n",
    "            \"data/simulated_dataset/amplitude_shift/1.0_1.0.h5\", \n",
    "            \"data/simulated_dataset/amplitude_shift/2.0_2.0.h5\", \n",
    "            \"data/simulated_dataset/amplitude_shift/3.0_3.0.h5\", \n",
    "            \"data/simulated_dataset/amplitude_shift/4.0_4.0.h5\", \n",
    "            \"data/simulated_dataset/amplitude_shift/5.0_5.0.h5\", \n",
    "            \"data/simulated_dataset/amplitude_shift/6.0_6.0.h5\", \n",
    "            \"data/simulated_dataset/amplitude_shift/7.0_7.0.h5\" , \n",
    "            \"data/simulated_dataset/amplitude_shift/8.0_8.0.h5\" , \n",
    "            \"data/simulated_dataset/amplitude_shift/9.0_9.0.h5\" , \n",
    "            \"data/simulated_dataset/amplitude_shift/10.0_10.0.h5\",\n",
    "            \"data/simulated_dataset/output_noise/0.25.h5\",\n",
    "            \"data/simulated_dataset/output_noise/0.50.h5\",\n",
    "            \"data/simulated_dataset/output_noise/0.75.h5\",\n",
    "            \"data/simulated_dataset/output_noise/1.00.h5\",\n",
    "            \"data/simulated_dataset/output_noise/1.25.h5\",\n",
    "            \"data/simulated_dataset/output_noise/1.50.h5\",\n",
    "            \"data/simulated_dataset/output_noise/1.75.h5\",\n",
    "            \"data/simulated_dataset/output_noise/2.00.h5\",\n",
    "            \"data/simulated_dataset/output_noise/2.25.h5\",\n",
    "            \"data/simulated_dataset/output_noise/2.50.h5\", \n",
    "            \"data/simulated_dataset/time_shift/0.h5\",\n",
    "            \"data/simulated_dataset/time_shift/2.h5\",\n",
    "            \"data/simulated_dataset/time_shift/4.h5\",\n",
    "            \"data/simulated_dataset/time_shift/6.h5\",\n",
    "            \"data/simulated_dataset/time_shift/8.h5\",\n",
    "            \"data/simulated_dataset/time_shift/10.h5\",\n",
    "            \"data/simulated_dataset/time_shift/12.h5\",\n",
    "            \"data/simulated_dataset/time_shift/14.h5\",\n",
    "            \"data/simulated_dataset/time_shift/16.h5\",\n",
    "            \"data/simulated_dataset/time_shift/18.h5\"\n",
    "            ]\n",
    "\n",
    "content_path = [\n",
    "    \"data/simulated_dataset/01 - Source Domain.h5\"\n",
    "]"
   ]
  },
  {
   "cell_type": "code",
   "execution_count": 3,
   "metadata": {},
   "outputs": [],
   "source": [
    "def remove_format(path:str):\n",
    "    return \".\".join(path.split('.')[:-1])\n",
    "\n",
    "def make_train_valid_split_synthetic(dataset:pd.DataFrame, train_split:float=0.8):\n",
    "    # Pour les labels dans les parametres. \n",
    "    # Mettre une partie dans Validation set\n",
    "    # et le retirer du trainset.\n",
    "    \n",
    "    shape = dataset.shape\n",
    "    train_end = int(shape[0]*train_split)\n",
    "        \n",
    "    train_dataset = dataset[:train_end]\n",
    "    valid_dataset = dataset[train_end:]\n",
    "    \n",
    "    return train_dataset, valid_dataset"
   ]
  },
  {
   "cell_type": "code",
   "execution_count": 4,
   "metadata": {},
   "outputs": [],
   "source": [
    "def make_train_valid(path):\n",
    "    name_placeholder = remove_format(path)\n",
    "    \n",
    "    dset = pd.read_hdf(path)\n",
    "    \n",
    "    dset_train, dset_valid = make_train_valid_split_synthetic(dset)\n",
    "    \n",
    "    dset_train.to_hdf(f\"{name_placeholder}_train.h5\", key=\"data\")\n",
    "    dset_valid.to_hdf(f\"{name_placeholder}_valid.h5\", key=\"data\")"
   ]
  },
  {
   "cell_type": "code",
   "execution_count": 5,
   "metadata": {},
   "outputs": [],
   "source": [
    "make_train_valid(content_path[0])"
   ]
  },
  {
   "cell_type": "code",
   "execution_count": 6,
   "metadata": {},
   "outputs": [],
   "source": [
    "for path in style_datasets_path:\n",
    "    make_train_valid(path)"
   ]
  },
  {
   "cell_type": "code",
   "execution_count": null,
   "metadata": {},
   "outputs": [],
   "source": []
  }
 ],
 "metadata": {
  "kernelspec": {
   "display_name": "tf2",
   "language": "python",
   "name": "python3"
  },
  "language_info": {
   "codemirror_mode": {
    "name": "ipython",
    "version": 3
   },
   "file_extension": ".py",
   "mimetype": "text/x-python",
   "name": "python",
   "nbconvert_exporter": "python",
   "pygments_lexer": "ipython3",
   "version": "3.10.13"
  }
 },
 "nbformat": 4,
 "nbformat_minor": 2
}
