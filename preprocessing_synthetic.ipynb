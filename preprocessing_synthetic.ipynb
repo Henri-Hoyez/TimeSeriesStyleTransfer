{
 "cells": [
  {
   "cell_type": "code",
   "execution_count": 19,
   "metadata": {},
   "outputs": [],
   "source": [
    "import pandas as pd\n",
    "import numpy as np\n",
    "import matplotlib.pyplot as plt\n",
    "# import seaborn as sns\n",
    "from sklearn.preprocessing import MinMaxScaler, StandardScaler, RobustScaler"
   ]
  },
  {
   "cell_type": "code",
   "execution_count": 20,
   "metadata": {},
   "outputs": [],
   "source": [
    "style_datasets_path = [\n",
    "            \"data/simulated_dataset/causal_shift/0.00.h5\", \n",
    "            \"data/simulated_dataset/causal_shift/0.10.h5\", \n",
    "            \"data/simulated_dataset/causal_shift/0.20.h5\", \n",
    "            \"data/simulated_dataset/causal_shift/0.30.h5\", \n",
    "            \"data/simulated_dataset/causal_shift/0.40.h5\", \n",
    "            \"data/simulated_dataset/causal_shift/0.50.h5\", \n",
    "            \"data/simulated_dataset/causal_shift/0.60.h5\", \n",
    "            \"data/simulated_dataset/causal_shift/0.70.h5\", \n",
    "            \"data/simulated_dataset/causal_shift/0.80.h5\", \n",
    "            \"data/simulated_dataset/causal_shift/0.90.h5\",\n",
    "            \n",
    "            \"data/simulated_dataset/output_noise/0.03.h5\",\n",
    "            \"data/simulated_dataset/output_noise/0.05.h5\",\n",
    "            \"data/simulated_dataset/output_noise/0.08.h5\",\n",
    "            \"data/simulated_dataset/output_noise/0.10.h5\",\n",
    "            \"data/simulated_dataset/output_noise/0.12.h5\",\n",
    "            \"data/simulated_dataset/output_noise/0.15.h5\",\n",
    "            \"data/simulated_dataset/output_noise/0.18.h5\",\n",
    "            \"data/simulated_dataset/output_noise/0.20.h5\",\n",
    "            \"data/simulated_dataset/output_noise/0.23.h5\",\n",
    "            \"data/simulated_dataset/output_noise/0.25.h5\",\n",
    "            \n",
    "            \"data/simulated_dataset/input_noise/0.25.h5\",\n",
    "            \"data/simulated_dataset/input_noise/0.50.h5\",\n",
    "            \"data/simulated_dataset/input_noise/0.75.h5\",\n",
    "            \"data/simulated_dataset/input_noise/1.00.h5\",\n",
    "            \"data/simulated_dataset/input_noise/1.25.h5\",\n",
    "            \"data/simulated_dataset/input_noise/1.50.h5\",\n",
    "            \"data/simulated_dataset/input_noise/1.75.h5\",\n",
    "            \"data/simulated_dataset/input_noise/2.00.h5\",\n",
    "            \"data/simulated_dataset/input_noise/2.25.h5\",\n",
    "            \"data/simulated_dataset/input_noise/2.50.h5\",\n",
    "        \n",
    "            \"data/simulated_dataset/time_shift/0.h5\",\n",
    "            \"data/simulated_dataset/time_shift/2.h5\",\n",
    "            \"data/simulated_dataset/time_shift/4.h5\",\n",
    "            \"data/simulated_dataset/time_shift/6.h5\",\n",
    "            \"data/simulated_dataset/time_shift/8.h5\",\n",
    "            \"data/simulated_dataset/time_shift/10.h5\",\n",
    "            \"data/simulated_dataset/time_shift/12.h5\",\n",
    "            \"data/simulated_dataset/time_shift/14.h5\",\n",
    "            \"data/simulated_dataset/time_shift/16.h5\",\n",
    "            \"data/simulated_dataset/time_shift/18.h5\"\n",
    "            ]\n",
    "\n",
    "content_path = [\n",
    "    \"data/simulated_dataset/01 - Source Domain.h5\"\n",
    "]"
   ]
  },
  {
   "cell_type": "code",
   "execution_count": 21,
   "metadata": {},
   "outputs": [],
   "source": [
    "def remove_format(path:str):\n",
    "    return \".\".join(path.split('.')[:-1])\n",
    "\n",
    "def make_train_valid_split_synthetic(dataset:pd.DataFrame, train_split:float=0.8):\n",
    "    # Pour les labels dans les parametres. \n",
    "    # Mettre une partie dans Validation set\n",
    "    # et le retirer du trainset.\n",
    "    \n",
    "    shape = dataset.shape\n",
    "    train_end = int(shape[0]*train_split)\n",
    "        \n",
    "    train_dataset = dataset[:train_end]\n",
    "    valid_dataset = dataset[train_end:]\n",
    "    \n",
    "    return train_dataset, valid_dataset"
   ]
  },
  {
   "cell_type": "code",
   "execution_count": 22,
   "metadata": {},
   "outputs": [],
   "source": [
    "def get_scaler(dsets:list):\n",
    "    \n",
    "    dsets = [pd.read_hdf(d) for d in dsets]\n",
    "    \n",
    "    dsets = pd.concat(dsets)\n",
    "    \n",
    "    scaler = StandardScaler()\n",
    "    \n",
    "    scaler.fit(dsets.values)\n",
    "    \n",
    "    return scaler\n",
    "\n",
    "\n",
    "def scale_dataset(df:pd.DataFrame, scaler:StandardScaler):\n",
    "    _data = df.values\n",
    "    scaled_data = scaler.transform(_data)\n",
    "    _df =  pd.DataFrame(scaled_data, df.index, df.columns)\n",
    "    # replacing labels by the unscaled labels.\n",
    "    _df[\"labels\"] = df['labels']\n",
    "    return _df\n",
    "\n",
    "\n",
    "def make_train_valid(path, scaler:StandardScaler=None):\n",
    "    name_placeholder = remove_format(path)\n",
    "    scaler_placeholder = \"\"\n",
    "    \n",
    "    dset = pd.read_hdf(path)\n",
    "    if not scaler == None:\n",
    "        dset = scale_dataset(dset, scaler)\n",
    "        scaler_placeholder = 'standardized_'\n",
    "        \n",
    "    \n",
    "    dset_train, dset_valid = make_train_valid_split_synthetic(dset)\n",
    "    \n",
    "    dset_train.to_hdf(f\"{name_placeholder}_{scaler_placeholder}train.h5\", key=\"data\")\n",
    "    dset_valid.to_hdf(f\"{name_placeholder}_{scaler_placeholder}valid.h5\", key=\"data\")"
   ]
  },
  {
   "cell_type": "markdown",
   "metadata": {},
   "source": [
    "## Make Unscaled Sequences."
   ]
  },
  {
   "cell_type": "code",
   "execution_count": 23,
   "metadata": {},
   "outputs": [],
   "source": [
    "make_train_valid(content_path[0])"
   ]
  },
  {
   "cell_type": "code",
   "execution_count": 24,
   "metadata": {},
   "outputs": [],
   "source": [
    "for path in style_datasets_path:\n",
    "    make_train_valid(path)"
   ]
  },
  {
   "cell_type": "markdown",
   "metadata": {},
   "source": [
    "## Make Scaled Sequeces\n",
    "### Amplitude Dataset. "
   ]
  },
  {
   "cell_type": "code",
   "execution_count": 25,
   "metadata": {},
   "outputs": [],
   "source": [
    "scaler = get_scaler(style_datasets_path)\n",
    "\n",
    "make_train_valid(content_path[0], scaler=scaler)\n",
    "\n",
    "for path in style_datasets_path:\n",
    "    make_train_valid(path, scaler=scaler)"
   ]
  }
 ],
 "metadata": {
  "kernelspec": {
   "display_name": "tf2",
   "language": "python",
   "name": "python3"
  },
  "language_info": {
   "codemirror_mode": {
    "name": "ipython",
    "version": 3
   },
   "file_extension": ".py",
   "mimetype": "text/x-python",
   "name": "python",
   "nbconvert_exporter": "python",
   "pygments_lexer": "ipython3",
   "version": "3.9.19"
  }
 },
 "nbformat": 4,
 "nbformat_minor": 2
}
